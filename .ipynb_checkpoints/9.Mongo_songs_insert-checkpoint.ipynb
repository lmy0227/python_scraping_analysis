{
 "cells": [
  {
   "cell_type": "code",
   "execution_count": 3,
   "metadata": {},
   "outputs": [
    {
     "name": "stdout",
     "output_type": "stream",
     "text": [
      "Name: pymongo\n",
      "Version: 3.11.0\n",
      "Summary: Python driver for MongoDB <http://www.mongodb.org>\n",
      "Home-page: http://github.com/mongodb/mongo-python-driver\n",
      "Author: Mike Dirolf\n",
      "Author-email: mongodb-user@googlegroups.com\n",
      "License: Apache License, Version 2.0\n",
      "Location: c:\\programdata\\anaconda38\\lib\\site-packages\n",
      "Requires: \n",
      "Required-by: \n"
     ]
    }
   ],
   "source": [
    "!pip show pymongo"
   ]
  },
  {
   "cell_type": "code",
   "execution_count": 4,
   "metadata": {},
   "outputs": [
    {
     "name": "stdout",
     "output_type": "stream",
     "text": [
      "<class 'list'> 100\n"
     ]
    },
    {
     "data": {
      "text/plain": [
       "[{'곡명': \"DON'T TOUCH ME\",\n",
       "  '가수': '환불원정대',\n",
       "  '앨범': \"DON'T TOUCH ME\",\n",
       "  '발매일': '2020.10.10',\n",
       "  '장르': '댄스',\n",
       "  '가사': \"Trouble 이래 다 그래세 보인대 어쩔래난 멋 부리네 더 꾸미네yeah I'm a lady 못 말리네 oh불편한 말들이 또 선을 넘어난 또 보란 듯 해내서 보여줘 버려나도 사랑을 원해나도 평화가 편해하지만 모두가 you know자꾸 건드리네 don't touch mebut 내 멋대로 해blah blah blah so whatI don't care yeah yeah내 맘대로 해자꾸 건드리네 don't touch me괜찮아 걱정 마 So good 난 즐거워몇 살을 먹는대도 절대로 난 안 꿀리는 걸따라 하고 싶지 않아wanna be original남의 눈치 보지 않아자꾸 건드리네 don't touch meUhh Tell me who's hotter NadaYou dealing with afour headed monsta어디 와서 싸구려를 팔아참지 않아 you don't want no problems맘대로 맘대로 hey누가 뭐래도 나대로 hey내가 문제라면 답 없지You can look and starebut don't touch me불편한 말들이 또 선을 넘어난 또 보란 듯 해내서 보여줘 버려나도 사랑을 원해나도 평화가 편해하지만 모두가 you know자꾸 건드리네 don't touch mebut 내 멋대로 해blah blah blah so whatI don't care yeah yeah내 맘대로 해자꾸 건드리네 don't touch me괜찮아 걱정 마 So good 난 즐거워몇 살을 먹는대도 절대로 난 안 꿀리는 걸따라 하고 싶지 않아wanna be original남의 눈치 보지 않아자꾸 건드리네 don't touch me때론 눈물이 쏟아지기도 해결국 날 만든 게 눈물이기도 해 익숙해남들 신경 쓰지 마 절대로Never never 누가 뭐래도 멈추지 마자꾸 건드리네 don't touch mebut 내 멋대로 해blah blah blah so whatI don't care yeah yeah내 맘대로 해자꾸 건드리네 don't touch me괜찮아 걱정 마 So good 난 즐거워몇 살을 먹는대도 절대로 난 안 꿀리는 걸따라 하고 싶지 않아wanna be original남의 눈치 보지 않아자꾸 건드리네 don't touch me자꾸 건드리네 don't touch me\"},\n",
       " {'곡명': 'Dynamite',\n",
       "  '가수': '방탄소년단',\n",
       "  '앨범': 'Dynamite (DayTime Version)',\n",
       "  '발매일': '2020.08.24',\n",
       "  '장르': '댄스',\n",
       "  '가사': \"Cos ah ahI’m in the stars tonightSo watch me bring the fireand set the night alightShoes on get up in the mornCup of milk let’s rock and rollKing Kong kick the drumrolling on like a rolling stoneSing song when I’m walking homeJump up to the top LeBronDing dong call me on my phoneIce tea and a game of ping pongThis is getting heavyCan you hear the bass boomI’m readyLife is sweet as honeyYeah this beat cha chinglike moneyDisco overload I’m intothat I’m good to goI'm diamond you know I glow upHey so let’s goCos ah ahI’m in the stars tonightSo watch me bring the fireand set the night alightShining through the citywith a little funk and soulSo I’mma light it uplike dynamite woahBring a friend join the crowdWhoever wanna come alongWord up talk the talkjust move like we off the wallDay or night the sky’s alightSo we dance to the break of dawnLadies and gentlemenI got the medicineso you should keep yaeyes on the ball huhThis is getting heavyCan you hear the bass boomI’m readyLife is sweet as honeyYeah this beat cha chinglike moneyDisco overloadI’m into that I’m good to goI'm diamond you know I glow upLet’s goCos ah ahI’m in the stars tonightSo watch me bring the fireand set the night alightShining through the citywith a little funk and soulSo I’mma light it uplike dynamite woahDynnnnnanana life is dynamiteDynnnnnanana life is dynamiteShining through the citywith a little funk and soulSo I’mma light it uplike dynamite woahDynnnnnanana ehDynnnnnanana ehDynnnnnanana ehLight it up like dynamiteDynnnnnanana ehDynnnnnanana ehDynnnnnanana ehLight it up like dynamiteCos ah ahI’m in the stars tonightSo watch me bring the fireand set the night alightShining through the citywith a little funk and soulSo I’mma light it uplike dynamiteCos ah ahI’m in the stars tonightSo watch me bring the fireand set the night alightShining through the citywith a little funk and soulSo I’mma light it uplike dynamite woahDynnnnnanana life is dynamiteDynnnnnanana life is dynamiteShining through the citywith a little funk and soulSo I’mma light it uplike dynamite woah\"},\n",
       " {'곡명': 'Lovesick Girls',\n",
       "  '가수': 'BLACKPINK',\n",
       "  '앨범': 'THE ALBUM',\n",
       "  '발매일': '2020.10.02',\n",
       "  '장르': '댄스',\n",
       "  '가사': '영원한 밤창문 없는 방에 우릴 가둔 loveWhat can we say매번 아파도 외치는 love다치고 망가져도 나뭘 믿고 버티는 거야어차피 떠나면 상처투성인 채로 미워하게 될걸끝장을 보기 전 끝낼 순 없어이 아픔을 기다린 것처럼아마 다 잠깐 일지도 몰라우린 무얼 찾아서 헤매는 걸까But I don’t care I’ll do it over and over내 세상 속엔 너만 있으면 돼We are the lovesick girls네 멋대로 내 사랑을 끝낼순 없어We are the lovesick girls이 아픔 없인 난 아무 의미가 없어But we were born to be aloneYeah we were born to be aloneYeah we were born to be alone But why we still looking for loveNo love letters, no x and o’sNo love never, my exes knowNo diamond rings, that set in stoneTo the left, better left aloneDidn’t wanna be a princess, I’m pricelessA prince not even on my listLove is a drug that I quitNo doctor could help when I’m lovesick아마 다 잠깐 일지도 몰라우린 무얼 찾아서 헤매는 걸까불안한 내 눈빛 속에 널 담아아프더라도 너만 있으면 돼We are the lovesick girls네 멋대로 내 사랑을 끝낼 순 없어We are the lovesick girls이 아픔 없인 난 아무 의미가 없어But we were born to be aloneYeah we were born to be aloneYeah we were born to be alone But why we still looking for love사랑은 slippin’ and fallin’사랑은 killin’ your darlin’아프다 아물면 또 찾아오는 이 겁 없는 떨림들리지 않아 what you say이 아픔이 난 행복해나를 불쌍해 하는 네가 내 눈엔 더 불쌍해We are the lovesick girls네 멋대로 내 사랑을 끝낼 순 없어We are the lovesick girls이 아픔없인 난 아무 의미가 없어Lovesick girls 모두 결국 떠나가고Lovesick girls내 눈물이 무뎌져도Lovesick girls아프고 또 아파도Lovesick girlsBut we’re still looking for love'}]"
      ]
     },
     "execution_count": 4,
     "metadata": {},
     "output_type": "execute_result"
    }
   ],
   "source": [
    "import pymongo\n",
    "import json\n",
    "\n",
    "with open('data/songs.json','r',encoding='utf8')as file:\n",
    "    contents = file.read()\n",
    "    songs_json = json.loads(contents)\n",
    "    \n",
    "print(type(songs_json), len(songs_json))\n",
    "songs_json[0:3]"
   ]
  },
  {
   "cell_type": "code",
   "execution_count": 5,
   "metadata": {},
   "outputs": [
    {
     "name": "stdout",
     "output_type": "stream",
     "text": [
      "Connection :  MongoClient(host=['localhost:27017'], document_class=dict, tz_aware=False, connect=True)\n",
      "Database Database(MongoClient(host=['localhost:27017'], document_class=dict, tz_aware=False, connect=True), 'song_db')\n",
      "DB Name :  song_db\n",
      "Collection :  Collection(Database(MongoClient(host=['localhost:27017'], document_class=dict, tz_aware=False, connect=True), 'song_db'), 'songs')\n",
      "Col Name :  songs\n"
     ]
    }
   ],
   "source": [
    "#1. MongoDB와 연결\n",
    "con = pymongo.MongoClient(host='localhost',port=27017)\n",
    "print('Connection : ',con)\n",
    "#2. Database 생성\n",
    "db = con.song_db\n",
    "print('Database',db)\n",
    "print('DB Name : ',db.name)\n",
    "#3. Collection 생성\n",
    "col = db.songs\n",
    "print('Collection : ',col)\n",
    "print('Col Name : ',col.name)"
   ]
  },
  {
   "cell_type": "code",
   "execution_count": 7,
   "metadata": {},
   "outputs": [
    {
     "ename": "BulkWriteError",
     "evalue": "batch op errors occurred, full error: {'writeErrors': [{'index': 0, 'code': 11000, 'keyPattern': {'_id': 1}, 'keyValue': {'_id': ObjectId('5f9a4f2451f49e3b73b8aff2')}, 'errmsg': \"E11000 duplicate key error collection: song_db.songs index: _id_ dup key: { _id: ObjectId('5f9a4f2451f49e3b73b8aff2') }\", 'op': {'곡명': \"DON'T TOUCH ME\", '가수': '환불원정대', '앨범': \"DON'T TOUCH ME\", '발매일': '2020.10.10', '장르': '댄스', '가사': \"Trouble 이래 다 그래세 보인대 어쩔래난 멋 부리네 더 꾸미네yeah I'm a lady 못 말리네 oh불편한 말들이 또 선을 넘어난 또 보란 듯 해내서 보여줘 버려나도 사랑을 원해나도 평화가 편해하지만 모두가 you know자꾸 건드리네 don't touch mebut 내 멋대로 해blah blah blah so whatI don't care yeah yeah내 맘대로 해자꾸 건드리네 don't touch me괜찮아 걱정 마 So good 난 즐거워몇 살을 먹는대도 절대로 난 안 꿀리는 걸따라 하고 싶지 않아wanna be original남의 눈치 보지 않아자꾸 건드리네 don't touch meUhh Tell me who's hotter NadaYou dealing with afour headed monsta어디 와서 싸구려를 팔아참지 않아 you don't want no problems맘대로 맘대로 hey누가 뭐래도 나대로 hey내가 문제라면 답 없지You can look and starebut don't touch me불편한 말들이 또 선을 넘어난 또 보란 듯 해내서 보여줘 버려나도 사랑을 원해나도 평화가 편해하지만 모두가 you know자꾸 건드리네 don't touch mebut 내 멋대로 해blah blah blah so whatI don't care yeah yeah내 맘대로 해자꾸 건드리네 don't touch me괜찮아 걱정 마 So good 난 즐거워몇 살을 먹는대도 절대로 난 안 꿀리는 걸따라 하고 싶지 않아wanna be original남의 눈치 보지 않아자꾸 건드리네 don't touch me때론 눈물이 쏟아지기도 해결국 날 만든 게 눈물이기도 해 익숙해남들 신경 쓰지 마 절대로Never never 누가 뭐래도 멈추지 마자꾸 건드리네 don't touch mebut 내 멋대로 해blah blah blah so whatI don't care yeah yeah내 맘대로 해자꾸 건드리네 don't touch me괜찮아 걱정 마 So good 난 즐거워몇 살을 먹는대도 절대로 난 안 꿀리는 걸따라 하고 싶지 않아wanna be original남의 눈치 보지 않아자꾸 건드리네 don't touch me자꾸 건드리네 don't touch me\", '_id': ObjectId('5f9a4f2451f49e3b73b8aff2')}}], 'writeConcernErrors': [], 'nInserted': 0, 'nUpserted': 0, 'nMatched': 0, 'nModified': 0, 'nRemoved': 0, 'upserted': []}",
     "output_type": "error",
     "traceback": [
      "\u001b[1;31m---------------------------------------------------------------------------\u001b[0m",
      "\u001b[1;31mBulkWriteError\u001b[0m                            Traceback (most recent call last)",
      "\u001b[1;32m<ipython-input-7-662f64b74b08>\u001b[0m in \u001b[0;36m<module>\u001b[1;34m\u001b[0m\n\u001b[0;32m      1\u001b[0m \u001b[1;31m#songs_json데이터를 insert_many()함수 사용해 document를 등록\u001b[0m\u001b[1;33m\u001b[0m\u001b[1;33m\u001b[0m\u001b[1;33m\u001b[0m\u001b[0m\n\u001b[1;32m----> 2\u001b[1;33m \u001b[0mcol\u001b[0m\u001b[1;33m.\u001b[0m\u001b[0minsert_many\u001b[0m\u001b[1;33m(\u001b[0m\u001b[0msongs_json\u001b[0m\u001b[1;33m)\u001b[0m\u001b[1;33m\u001b[0m\u001b[1;33m\u001b[0m\u001b[0m\n\u001b[0m\u001b[0;32m      3\u001b[0m \u001b[1;33m\u001b[0m\u001b[0m\n\u001b[0;32m      4\u001b[0m \u001b[1;31m#document 건수 확인\u001b[0m\u001b[1;33m\u001b[0m\u001b[1;33m\u001b[0m\u001b[1;33m\u001b[0m\u001b[0m\n\u001b[0;32m      5\u001b[0m \u001b[0mcol\u001b[0m\u001b[1;33m.\u001b[0m\u001b[0mcount_documents\u001b[0m\u001b[1;33m(\u001b[0m\u001b[1;33m{\u001b[0m\u001b[1;33m}\u001b[0m\u001b[1;33m)\u001b[0m\u001b[1;33m\u001b[0m\u001b[1;33m\u001b[0m\u001b[0m\n",
      "\u001b[1;32mC:\\ProgramData\\Anaconda38\\lib\\site-packages\\pymongo\\collection.py\u001b[0m in \u001b[0;36minsert_many\u001b[1;34m(self, documents, ordered, bypass_document_validation, session)\u001b[0m\n\u001b[0;32m    759\u001b[0m         \u001b[0mblk\u001b[0m \u001b[1;33m=\u001b[0m \u001b[0m_Bulk\u001b[0m\u001b[1;33m(\u001b[0m\u001b[0mself\u001b[0m\u001b[1;33m,\u001b[0m \u001b[0mordered\u001b[0m\u001b[1;33m,\u001b[0m \u001b[0mbypass_document_validation\u001b[0m\u001b[1;33m)\u001b[0m\u001b[1;33m\u001b[0m\u001b[1;33m\u001b[0m\u001b[0m\n\u001b[0;32m    760\u001b[0m         \u001b[0mblk\u001b[0m\u001b[1;33m.\u001b[0m\u001b[0mops\u001b[0m \u001b[1;33m=\u001b[0m \u001b[1;33m[\u001b[0m\u001b[0mdoc\u001b[0m \u001b[1;32mfor\u001b[0m \u001b[0mdoc\u001b[0m \u001b[1;32min\u001b[0m \u001b[0mgen\u001b[0m\u001b[1;33m(\u001b[0m\u001b[1;33m)\u001b[0m\u001b[1;33m]\u001b[0m\u001b[1;33m\u001b[0m\u001b[1;33m\u001b[0m\u001b[0m\n\u001b[1;32m--> 761\u001b[1;33m         \u001b[0mblk\u001b[0m\u001b[1;33m.\u001b[0m\u001b[0mexecute\u001b[0m\u001b[1;33m(\u001b[0m\u001b[0mwrite_concern\u001b[0m\u001b[1;33m,\u001b[0m \u001b[0msession\u001b[0m\u001b[1;33m=\u001b[0m\u001b[0msession\u001b[0m\u001b[1;33m)\u001b[0m\u001b[1;33m\u001b[0m\u001b[1;33m\u001b[0m\u001b[0m\n\u001b[0m\u001b[0;32m    762\u001b[0m         \u001b[1;32mreturn\u001b[0m \u001b[0mInsertManyResult\u001b[0m\u001b[1;33m(\u001b[0m\u001b[0minserted_ids\u001b[0m\u001b[1;33m,\u001b[0m \u001b[0mwrite_concern\u001b[0m\u001b[1;33m.\u001b[0m\u001b[0macknowledged\u001b[0m\u001b[1;33m)\u001b[0m\u001b[1;33m\u001b[0m\u001b[1;33m\u001b[0m\u001b[0m\n\u001b[0;32m    763\u001b[0m \u001b[1;33m\u001b[0m\u001b[0m\n",
      "\u001b[1;32mC:\\ProgramData\\Anaconda38\\lib\\site-packages\\pymongo\\bulk.py\u001b[0m in \u001b[0;36mexecute\u001b[1;34m(self, write_concern, session)\u001b[0m\n\u001b[0;32m    526\u001b[0m                 \u001b[0mself\u001b[0m\u001b[1;33m.\u001b[0m\u001b[0mexecute_no_results\u001b[0m\u001b[1;33m(\u001b[0m\u001b[0msock_info\u001b[0m\u001b[1;33m,\u001b[0m \u001b[0mgenerator\u001b[0m\u001b[1;33m)\u001b[0m\u001b[1;33m\u001b[0m\u001b[1;33m\u001b[0m\u001b[0m\n\u001b[0;32m    527\u001b[0m         \u001b[1;32melse\u001b[0m\u001b[1;33m:\u001b[0m\u001b[1;33m\u001b[0m\u001b[1;33m\u001b[0m\u001b[0m\n\u001b[1;32m--> 528\u001b[1;33m             \u001b[1;32mreturn\u001b[0m \u001b[0mself\u001b[0m\u001b[1;33m.\u001b[0m\u001b[0mexecute_command\u001b[0m\u001b[1;33m(\u001b[0m\u001b[0mgenerator\u001b[0m\u001b[1;33m,\u001b[0m \u001b[0mwrite_concern\u001b[0m\u001b[1;33m,\u001b[0m \u001b[0msession\u001b[0m\u001b[1;33m)\u001b[0m\u001b[1;33m\u001b[0m\u001b[1;33m\u001b[0m\u001b[0m\n\u001b[0m\u001b[0;32m    529\u001b[0m \u001b[1;33m\u001b[0m\u001b[0m\n\u001b[0;32m    530\u001b[0m \u001b[1;33m\u001b[0m\u001b[0m\n",
      "\u001b[1;32mC:\\ProgramData\\Anaconda38\\lib\\site-packages\\pymongo\\bulk.py\u001b[0m in \u001b[0;36mexecute_command\u001b[1;34m(self, generator, write_concern, session)\u001b[0m\n\u001b[0;32m    361\u001b[0m \u001b[1;33m\u001b[0m\u001b[0m\n\u001b[0;32m    362\u001b[0m         \u001b[1;32mif\u001b[0m \u001b[0mfull_result\u001b[0m\u001b[1;33m[\u001b[0m\u001b[1;34m\"writeErrors\"\u001b[0m\u001b[1;33m]\u001b[0m \u001b[1;32mor\u001b[0m \u001b[0mfull_result\u001b[0m\u001b[1;33m[\u001b[0m\u001b[1;34m\"writeConcernErrors\"\u001b[0m\u001b[1;33m]\u001b[0m\u001b[1;33m:\u001b[0m\u001b[1;33m\u001b[0m\u001b[1;33m\u001b[0m\u001b[0m\n\u001b[1;32m--> 363\u001b[1;33m             \u001b[0m_raise_bulk_write_error\u001b[0m\u001b[1;33m(\u001b[0m\u001b[0mfull_result\u001b[0m\u001b[1;33m)\u001b[0m\u001b[1;33m\u001b[0m\u001b[1;33m\u001b[0m\u001b[0m\n\u001b[0m\u001b[0;32m    364\u001b[0m         \u001b[1;32mreturn\u001b[0m \u001b[0mfull_result\u001b[0m\u001b[1;33m\u001b[0m\u001b[1;33m\u001b[0m\u001b[0m\n\u001b[0;32m    365\u001b[0m \u001b[1;33m\u001b[0m\u001b[0m\n",
      "\u001b[1;32mC:\\ProgramData\\Anaconda38\\lib\\site-packages\\pymongo\\bulk.py\u001b[0m in \u001b[0;36m_raise_bulk_write_error\u001b[1;34m(full_result)\u001b[0m\n\u001b[0;32m    138\u001b[0m         full_result[\"writeErrors\"].sort(\n\u001b[0;32m    139\u001b[0m             key=lambda error: error[\"index\"])\n\u001b[1;32m--> 140\u001b[1;33m     \u001b[1;32mraise\u001b[0m \u001b[0mBulkWriteError\u001b[0m\u001b[1;33m(\u001b[0m\u001b[0mfull_result\u001b[0m\u001b[1;33m)\u001b[0m\u001b[1;33m\u001b[0m\u001b[1;33m\u001b[0m\u001b[0m\n\u001b[0m\u001b[0;32m    141\u001b[0m \u001b[1;33m\u001b[0m\u001b[0m\n\u001b[0;32m    142\u001b[0m \u001b[1;33m\u001b[0m\u001b[0m\n",
      "\u001b[1;31mBulkWriteError\u001b[0m: batch op errors occurred, full error: {'writeErrors': [{'index': 0, 'code': 11000, 'keyPattern': {'_id': 1}, 'keyValue': {'_id': ObjectId('5f9a4f2451f49e3b73b8aff2')}, 'errmsg': \"E11000 duplicate key error collection: song_db.songs index: _id_ dup key: { _id: ObjectId('5f9a4f2451f49e3b73b8aff2') }\", 'op': {'곡명': \"DON'T TOUCH ME\", '가수': '환불원정대', '앨범': \"DON'T TOUCH ME\", '발매일': '2020.10.10', '장르': '댄스', '가사': \"Trouble 이래 다 그래세 보인대 어쩔래난 멋 부리네 더 꾸미네yeah I'm a lady 못 말리네 oh불편한 말들이 또 선을 넘어난 또 보란 듯 해내서 보여줘 버려나도 사랑을 원해나도 평화가 편해하지만 모두가 you know자꾸 건드리네 don't touch mebut 내 멋대로 해blah blah blah so whatI don't care yeah yeah내 맘대로 해자꾸 건드리네 don't touch me괜찮아 걱정 마 So good 난 즐거워몇 살을 먹는대도 절대로 난 안 꿀리는 걸따라 하고 싶지 않아wanna be original남의 눈치 보지 않아자꾸 건드리네 don't touch meUhh Tell me who's hotter NadaYou dealing with afour headed monsta어디 와서 싸구려를 팔아참지 않아 you don't want no problems맘대로 맘대로 hey누가 뭐래도 나대로 hey내가 문제라면 답 없지You can look and starebut don't touch me불편한 말들이 또 선을 넘어난 또 보란 듯 해내서 보여줘 버려나도 사랑을 원해나도 평화가 편해하지만 모두가 you know자꾸 건드리네 don't touch mebut 내 멋대로 해blah blah blah so whatI don't care yeah yeah내 맘대로 해자꾸 건드리네 don't touch me괜찮아 걱정 마 So good 난 즐거워몇 살을 먹는대도 절대로 난 안 꿀리는 걸따라 하고 싶지 않아wanna be original남의 눈치 보지 않아자꾸 건드리네 don't touch me때론 눈물이 쏟아지기도 해결국 날 만든 게 눈물이기도 해 익숙해남들 신경 쓰지 마 절대로Never never 누가 뭐래도 멈추지 마자꾸 건드리네 don't touch mebut 내 멋대로 해blah blah blah so whatI don't care yeah yeah내 맘대로 해자꾸 건드리네 don't touch me괜찮아 걱정 마 So good 난 즐거워몇 살을 먹는대도 절대로 난 안 꿀리는 걸따라 하고 싶지 않아wanna be original남의 눈치 보지 않아자꾸 건드리네 don't touch me자꾸 건드리네 don't touch me\", '_id': ObjectId('5f9a4f2451f49e3b73b8aff2')}}], 'writeConcernErrors': [], 'nInserted': 0, 'nUpserted': 0, 'nMatched': 0, 'nModified': 0, 'nRemoved': 0, 'upserted': []}"
     ]
    }
   ],
   "source": [
    "#songs_json데이터를 insert_many()함수 사용해 document를 등록\n",
    "col.insert_many(songs_json)\n",
    "\n",
    "#document 건수 확인\n",
    "col.count_documents({})"
   ]
  },
  {
   "cell_type": "code",
   "execution_count": 11,
   "metadata": {},
   "outputs": [
    {
     "name": "stdout",
     "output_type": "stream",
     "text": [
      "<class 'pymongo.cursor.Cursor'>\n",
      "환불원정대\n",
      "방탄소년단\n",
      "BLACKPINK\n",
      "산들\n",
      "Crush\n",
      "박진영\n",
      "임창정\n",
      "스탠딩 에그\n",
      "Jawsh 685\n",
      "제시 (Jessi)\n",
      "규현 (KYUHYUN)\n",
      "화사 (Hwa Sa)\n",
      "BLACKPINK\n",
      "아이유\n",
      "오마이걸 (OH MY GIRL)\n",
      "싹쓰리 (유두래곤, 린다G, 비룡)\n",
      "조정석\n",
      "이하이\n",
      "블루 (BLOO)\n",
      "오반\n",
      "마마무 (Mamamoo)\n",
      "노을\n",
      "Tones And I\n",
      "아이유\n",
      "AKMU (악동뮤지션)\n",
      "Maroon 5\n",
      "창모 (CHANGMO)\n",
      "방탄소년단\n",
      "전상근\n",
      "백지영\n",
      "장범준\n",
      "오마이걸 (OH MY GIRL)\n",
      "폴킴\n",
      "마크툽 (MAKTUB)\n",
      "전미도\n",
      "(여자)아이들\n",
      "Anne-Marie\n",
      "BLACKPINK\n",
      "신예영\n",
      "청하\n",
      "Crush\n",
      "순순희\n",
      "지코 (ZICO)\n",
      "ITZY (있지)\n",
      "Dua Lipa\n",
      "아이유\n",
      "로꼬\n",
      "엠씨더맥스 (M.C the MAX)\n",
      "방탄소년단\n",
      "먼데이 키즈 (Monday Kiz)\n",
      "폴킴\n",
      "선미\n",
      "지코 (ZICO)\n",
      "방탄소년단\n",
      "BLACKPINK\n",
      "바이브\n",
      "Etham\n",
      "가호 (Gaho)\n",
      "Conan Gray\n",
      "아이유\n",
      "임영웅\n",
      "아이유\n",
      "조이 (JOY)\n",
      "Red Velvet (레드벨벳)\n",
      "오반\n",
      "Lauv\n",
      "카더가든\n",
      "싹쓰리 (유두래곤, 린다G, 비룡)\n",
      "폴킴\n",
      "BLACKPINK\n",
      "황인욱\n",
      "김필\n",
      "Crush\n",
      "이수현\n",
      "마크툽 (MAKTUB)\n",
      "Billie Eilish\n",
      "규현 (KYUHYUN)\n",
      "볼빨간사춘기\n",
      "김준수\n",
      "Ruel\n",
      "HYNN (박혜원)\n",
      "비룡\n",
      "송하예\n",
      "Crush\n",
      "Ariana Grande\n",
      "진민호\n",
      "백현 (BAEKHYUN)\n",
      "임창정\n",
      "헤이즈 (Heize)\n",
      "Crush\n",
      "전상근\n",
      "신용재 (2F)\n",
      "방탄소년단\n",
      "정은지\n",
      "TWICE (트와이스)\n",
      "마마무 (Mamamoo)\n",
      "유아 (오마이걸)\n",
      "Sam Smith\n",
      "싹쓰리 (유두래곤, 린다G, 비룡)\n",
      "청하\n"
     ]
    }
   ],
   "source": [
    "#find()함수 사용해서 documnet 읽기\n",
    "print(type(col.find({})))\n",
    "for doc in col.find({}):\n",
    "    #print(type(doc))\n",
    "    print(doc['가수'])"
   ]
  },
  {
   "cell_type": "code",
   "execution_count": 16,
   "metadata": {},
   "outputs": [
    {
     "name": "stdout",
     "output_type": "stream",
     "text": [
      "{'가수': '방탄소년단', '발매일': '2020.08.24', '장르': '댄스'}\n",
      "{'가수': '방탄소년단', '발매일': '2019.04.12', '장르': '댄스'}\n"
     ]
    }
   ],
   "source": [
    "#가수, 장르, 발매일, _id 빼고 장르가 댄스인 데이터 추출\n",
    "for song in col.find({'장르':'댄스','가수':'방탄소년단'},{'_id':0,'가수':1,'장르':1,'발매일':1}):\n",
    "    print(song)\n"
   ]
  },
  {
   "cell_type": "code",
   "execution_count": 31,
   "metadata": {},
   "outputs": [],
   "source": [
    "# criteria(검색조건), projection(필드)을 인자로 받아서 출력하는 함수\n",
    "def print_song(criteria, projection):\n",
    "    for idx,song in enumerate(col.find(criteria,projection),1):\n",
    "        print(idx,song)\n",
    "    "
   ]
  },
  {
   "cell_type": "code",
   "execution_count": 28,
   "metadata": {},
   "outputs": [
    {
     "name": "stdout",
     "output_type": "stream",
     "text": [
      "1 {'곡명': 'Dynamite', '가수': '방탄소년단', '발매일': '2020.08.24', '장르': '댄스'}\n",
      "2 {'곡명': '작은 것들을 위한 시 (Boy With Luv) (Feat. Halsey)', '가수': '방탄소년단', '발매일': '2019.04.12', '장르': '댄스'}\n",
      "3 {'곡명': '봄날', '가수': '방탄소년단', '발매일': '2017.02.13', '장르': '랩/힙합'}\n",
      "4 {'곡명': 'ON', '가수': '방탄소년단', '발매일': '2020.02.21', '장르': '랩/힙합'}\n",
      "5 {'곡명': '00:00 (Zero O’Clock)', '가수': '방탄소년단', '발매일': '2020.02.21', '장르': '랩/힙합'}\n"
     ]
    }
   ],
   "source": [
    "#방탄소년단의 노래는?\n",
    "criteria = {'가수':'방탄소년단'}\n",
    "projection = {'_id':0,'가수':1,'곡명':1,'장르':1,'발매일':1}\n",
    "print_song(criteria, projection)"
   ]
  },
  {
   "cell_type": "code",
   "execution_count": 47,
   "metadata": {},
   "outputs": [
    {
     "name": "stdout",
     "output_type": "stream",
     "text": [
      "1 {'곡명': 'Dynamite', '가수': '방탄소년단', '발매일': '2020.08.24', '장르': '댄스'}\n",
      "2 {'곡명': '작은 것들을 위한 시 (Boy With Luv) (Feat. Halsey)', '가수': '방탄소년단', '발매일': '2019.04.12', '장르': '댄스'}\n",
      "3 {'곡명': '모든 날, 모든 순간 (Every day, Every Moment)', '가수': '폴킴', '발매일': '2018.03.20', '장르': '발라드, 국내드라마'}\n",
      "4 {'곡명': '봄날', '가수': '방탄소년단', '발매일': '2017.02.13', '장르': '랩/힙합'}\n",
      "5 {'곡명': '안녕', '가수': '폴킴', '발매일': '2019.08.12', '장르': '발라드, 국내드라마'}\n",
      "6 {'곡명': 'ON', '가수': '방탄소년단', '발매일': '2020.02.21', '장르': '랩/힙합'}\n",
      "7 {'곡명': '너를 만나', '가수': '폴킴', '발매일': '2018.10.29', '장르': '발라드'}\n",
      "8 {'곡명': '00:00 (Zero O’Clock)', '가수': '방탄소년단', '발매일': '2020.02.21', '장르': '랩/힙합'}\n"
     ]
    }
   ],
   "source": [
    "#방탄소년단과 폴킴의 노래는?\n",
    "criteria = {'가수':{'$in':['방탄소년단','폴킴']}}\n",
    "projection = {'_id':0,'가수':1,'곡명':1,'장르':1,'발매일':1}\n",
    "print_song(criteria, projection)"
   ]
  },
  {
   "cell_type": "code",
   "execution_count": 50,
   "metadata": {},
   "outputs": [
    {
     "name": "stdout",
     "output_type": "stream",
     "text": [
      "1 {'곡명': '아로하', '가수': '조정석', '발매일': '2020.03.27', '장르': '발라드, 국내드라마'}\n",
      "2 {'곡명': '흔들리는 꽃들 속에서 네 샴푸향이 느껴진거야', '가수': '장범준', '발매일': '2019.08.23', '장르': '록/메탈, 국내드라마'}\n",
      "3 {'곡명': '모든 날, 모든 순간 (Every day, Every Moment)', '가수': '폴킴', '발매일': '2018.03.20', '장르': '발라드, 국내드라마'}\n",
      "4 {'곡명': '사랑하게 될 줄 알았어', '가수': '전미도', '발매일': '2020.05.22', '장르': '발라드, 국내드라마'}\n",
      "5 {'곡명': '마음을 드려요', '가수': '아이유', '발매일': '2020.02.15', '장르': '발라드, 국내드라마'}\n",
      "6 {'곡명': '안녕', '가수': '폴킴', '발매일': '2019.08.12', '장르': '발라드, 국내드라마'}\n",
      "7 {'곡명': '시작', '가수': '가호 (Gaho)', '발매일': '2020.02.01', '장르': '록/메탈, 국내드라마'}\n",
      "8 {'곡명': '좋은 사람 있으면 소개시켜줘', '가수': '조이 (JOY)', '발매일': '2020.03.20', '장르': '발라드, 국내드라마'}\n",
      "9 {'곡명': '그때 그 아인', '가수': '김필', '발매일': '2020.02.15', '장르': '발라드, 국내드라마'}\n",
      "10 {'곡명': '화려하지 않은 고백', '가수': '규현 (KYUHYUN)', '발매일': '2020.04.03', '장르': '발라드, 국내드라마'}\n",
      "11 {'곡명': '너를 사랑하고 있어', '가수': '백현 (BAEKHYUN)', '발매일': '2020.01.07', '장르': '발라드, 국내드라마'}\n",
      "12 {'곡명': '밤하늘의 저 별처럼', '가수': '헤이즈 (Heize)', '발매일': '2020.09.27', '장르': 'R&B/Soul, 국내드라마'}\n"
     ]
    }
   ],
   "source": [
    "#앨범 이름 중에 OST가 포함된 노래는?\n",
    "criteria = {'앨범':{'$regex':'OST'}}\n",
    "print_song(criteria, projection)"
   ]
  },
  {
   "cell_type": "code",
   "execution_count": 53,
   "metadata": {},
   "outputs": [
    {
     "name": "stdout",
     "output_type": "stream",
     "text": [
      "{'노래개수': 5, '가수이름': 'Crush'}\n",
      "{'노래개수': 5, '가수이름': '방탄소년단'}\n",
      "{'노래개수': 5, '가수이름': 'BLACKPINK'}\n",
      "{'노래개수': 5, '가수이름': '아이유'}\n",
      "{'노래개수': 3, '가수이름': '싹쓰리 (유두래곤, 린다G, 비룡)'}\n",
      "{'노래개수': 3, '가수이름': '폴킴'}\n",
      "{'노래개수': 2, '가수이름': '임창정'}\n",
      "{'노래개수': 2, '가수이름': '규현 (KYUHYUN)'}\n",
      "{'노래개수': 2, '가수이름': '마마무 (Mamamoo)'}\n",
      "{'노래개수': 2, '가수이름': '오마이걸 (OH MY GIRL)'}\n",
      "{'노래개수': 2, '가수이름': '오반'}\n",
      "{'노래개수': 2, '가수이름': '지코 (ZICO)'}\n",
      "{'노래개수': 2, '가수이름': '마크툽 (MAKTUB)'}\n",
      "{'노래개수': 2, '가수이름': '청하'}\n",
      "{'노래개수': 2, '가수이름': '전상근'}\n",
      "{'노래개수': 1, '가수이름': '창모 (CHANGMO)'}\n",
      "{'노래개수': 1, '가수이름': '김준수'}\n",
      "{'노래개수': 1, '가수이름': '노을'}\n",
      "{'노래개수': 1, '가수이름': '조이 (JOY)'}\n",
      "{'노래개수': 1, '가수이름': '신예영'}\n",
      "{'노래개수': 1, '가수이름': '비룡'}\n",
      "{'노래개수': 1, '가수이름': '유아 (오마이걸)'}\n",
      "{'노래개수': 1, '가수이름': '선미'}\n",
      "{'노래개수': 1, '가수이름': '이수현'}\n",
      "{'노래개수': 1, '가수이름': 'Lauv'}\n",
      "{'노래개수': 1, '가수이름': '화사 (Hwa Sa)'}\n",
      "{'노래개수': 1, '가수이름': '조정석'}\n",
      "{'노래개수': 1, '가수이름': 'Dua Lipa'}\n",
      "{'노래개수': 1, '가수이름': '엠씨더맥스 (M.C the MAX)'}\n",
      "{'노래개수': 1, '가수이름': '카더가든'}\n",
      "{'노래개수': 1, '가수이름': 'Ariana Grande'}\n",
      "{'노래개수': 1, '가수이름': 'ITZY (있지)'}\n",
      "{'노래개수': 1, '가수이름': '바이브'}\n",
      "{'노래개수': 1, '가수이름': 'AKMU (악동뮤지션)'}\n",
      "{'노래개수': 1, '가수이름': 'Sam Smith'}\n",
      "{'노래개수': 1, '가수이름': '로꼬'}\n",
      "{'노래개수': 1, '가수이름': '장범준'}\n",
      "{'노래개수': 1, '가수이름': '스탠딩 에그'}\n",
      "{'노래개수': 1, '가수이름': '이하이'}\n",
      "{'노래개수': 1, '가수이름': 'Anne-Marie'}\n",
      "{'노래개수': 1, '가수이름': '황인욱'}\n",
      "{'노래개수': 1, '가수이름': 'Ruel'}\n",
      "{'노래개수': 1, '가수이름': 'Jawsh 685'}\n",
      "{'노래개수': 1, '가수이름': 'HYNN (박혜원)'}\n",
      "{'노래개수': 1, '가수이름': 'TWICE (트와이스)'}\n",
      "{'노래개수': 1, '가수이름': '전미도'}\n",
      "{'노래개수': 1, '가수이름': '박진영'}\n",
      "{'노래개수': 1, '가수이름': 'Billie Eilish'}\n",
      "{'노래개수': 1, '가수이름': '신용재 (2F)'}\n",
      "{'노래개수': 1, '가수이름': 'Red Velvet (레드벨벳)'}\n",
      "{'노래개수': 1, '가수이름': '(여자)아이들'}\n",
      "{'노래개수': 1, '가수이름': '임영웅'}\n",
      "{'노래개수': 1, '가수이름': '제시 (Jessi)'}\n",
      "{'노래개수': 1, '가수이름': '정은지'}\n",
      "{'노래개수': 1, '가수이름': '산들'}\n",
      "{'노래개수': 1, '가수이름': 'Maroon 5'}\n",
      "{'노래개수': 1, '가수이름': '볼빨간사춘기'}\n",
      "{'노래개수': 1, '가수이름': 'Conan Gray'}\n",
      "{'노래개수': 1, '가수이름': '백지영'}\n",
      "{'노래개수': 1, '가수이름': '가호 (Gaho)'}\n",
      "{'노래개수': 1, '가수이름': '송하예'}\n",
      "{'노래개수': 1, '가수이름': '헤이즈 (Heize)'}\n",
      "{'노래개수': 1, '가수이름': '진민호'}\n",
      "{'노래개수': 1, '가수이름': 'Etham'}\n",
      "{'노래개수': 1, '가수이름': '환불원정대'}\n",
      "{'노래개수': 1, '가수이름': '먼데이 키즈 (Monday Kiz)'}\n",
      "{'노래개수': 1, '가수이름': '백현 (BAEKHYUN)'}\n",
      "{'노래개수': 1, '가수이름': '김필'}\n",
      "{'노래개수': 1, '가수이름': '블루 (BLOO)'}\n",
      "{'노래개수': 1, '가수이름': 'Tones And I'}\n",
      "{'노래개수': 1, '가수이름': '순순희'}\n"
     ]
    }
   ],
   "source": [
    "# 가수별로 노래가 몇 곡이나 있는지?\n",
    "\n",
    "for song in col.aggregate([\n",
    "    {\n",
    "        '$group':{\n",
    "            '_id':'$가수',\n",
    "            '노래개수':{'$sum':1}\n",
    "        }\n",
    "    },\n",
    "    {\n",
    "        '$sort':{'노래개수':-1}\n",
    "    },\n",
    "    {\n",
    "        '$project':{\n",
    "            '가수이름':'$_id',\n",
    "            '_id':0,\n",
    "            '노래개수':1\n",
    "            \n",
    "        }\n",
    "    }\n",
    "]):\n",
    "    print(song)"
   ]
  },
  {
   "cell_type": "code",
   "execution_count": 57,
   "metadata": {},
   "outputs": [
    {
     "name": "stdout",
     "output_type": "stream",
     "text": [
      "{'노래개수': 25, '장르': '댄스'}\n",
      "{'노래개수': 22, '장르': '발라드'}\n",
      "{'노래개수': 13, '장르': 'POP'}\n",
      "{'노래개수': 11, '장르': '랩/힙합'}\n",
      "{'노래개수': 9, '장르': '발라드, 국내드라마'}\n",
      "{'노래개수': 4, '장르': 'R&B/Soul'}\n",
      "{'노래개수': 3, '장르': '록/메탈'}\n",
      "{'노래개수': 3, '장르': '랩/힙합, 인디음악'}\n",
      "{'노래개수': 2, '장르': '인디음악, 포크/블루스'}\n",
      "{'노래개수': 2, '장르': 'R&B/Soul, 인디음악'}\n",
      "{'노래개수': 2, '장르': '록/메탈, 국내드라마'}\n",
      "{'노래개수': 1, '장르': '발라드, 인디음악'}\n",
      "{'노래개수': 1, '장르': '재즈, 애시드/퓨전/팝'}\n",
      "{'노래개수': 1, '장르': 'R&B/Soul, 국내드라마'}\n",
      "{'노래개수': 1, '장르': '성인가요'}\n"
     ]
    }
   ],
   "source": [
    "#장르별로 노래개수\n",
    "for song in col.aggregate([\n",
    "    {\n",
    "        '$group':{\n",
    "            '_id':'$장르',\n",
    "            '노래개수':{'$sum':1}\n",
    "        }\n",
    "    },\n",
    "    {\n",
    "        '$sort':{'노래개수':-1}\n",
    "    },\n",
    "    {\n",
    "        '$project':{\n",
    "            '장르':'$_id',\n",
    "            '_id':0,\n",
    "            '노래개수':1\n",
    "            \n",
    "        }\n",
    "    }\n",
    "]):\n",
    "    print(song)"
   ]
  },
  {
   "cell_type": "code",
   "execution_count": 61,
   "metadata": {},
   "outputs": [
    {
     "name": "stdout",
     "output_type": "stream",
     "text": [
      "{'_id': 'R&B/Soul, 국내드라마', '노래개수': 1}\n",
      "{'_id': '재즈, 애시드/퓨전/팝', '노래개수': 1}\n",
      "{'_id': '발라드, 국내드라마', '노래개수': 9}\n",
      "{'_id': 'R&B/Soul, 인디음악', '노래개수': 2}\n",
      "{'_id': '인디음악, 포크/블루스', '노래개수': 2}\n",
      "{'_id': '록/메탈', '노래개수': 3}\n",
      "{'_id': 'POP', '노래개수': 13}\n",
      "{'_id': '록/메탈, 국내드라마', '노래개수': 2}\n",
      "{'_id': '발라드, 인디음악', '노래개수': 1}\n",
      "{'_id': '발라드', '노래개수': 22}\n",
      "{'_id': '댄스', '노래개수': 25}\n",
      "{'_id': '랩/힙합', '노래개수': 11}\n",
      "{'_id': '랩/힙합, 인디음악', '노래개수': 3}\n",
      "{'_id': '성인가요', '노래개수': 1}\n",
      "{'_id': 'R&B/Soul', '노래개수': 4}\n"
     ]
    }
   ],
   "source": [
    "group = {\n",
    "    '$group':{\n",
    "        '_id':'$장르',\n",
    "        '노래개수':{'$sum':1}\n",
    "    }\n",
    "}\n",
    "sort = {\n",
    "    '$sort':{'노래개수':-1}\n",
    "}\n",
    "project = {\n",
    "    '$project':{\n",
    "        '장르':'$_id',\n",
    "        '_id':0,\n",
    "        '노래개수':1\n",
    "    }\n",
    "}\n",
    "for song in col.aggregate([group]):\n",
    "    print(song)\n",
    "    "
   ]
  },
  {
   "cell_type": "code",
   "execution_count": null,
   "metadata": {},
   "outputs": [],
   "source": [
    "#장르별로 노래개수\n",
    "def genre_song(genre):\n",
    "    \n",
    "    for song in col.aggregate([\n",
    "        {\n",
    "            '$group':{\n",
    "                '_id':'$장르',\n",
    "                '노래개수':{'$sum':1}\n",
    "            }\n",
    "        },\n",
    "        {\n",
    "            '$sort':{'노래개수':-1}\n",
    "        },\n",
    "        {\n",
    "            '$project':{\n",
    "                '장르':'$_id',\n",
    "                '_id':0,\n",
    "                '노래개수':1\n",
    "\n",
    "            }\n",
    "        }\n",
    "    ]):\n",
    "        print(song)"
   ]
  }
 ],
 "metadata": {
  "kernelspec": {
   "display_name": "Python 3",
   "language": "python",
   "name": "python3"
  },
  "language_info": {
   "codemirror_mode": {
    "name": "ipython",
    "version": 3
   },
   "file_extension": ".py",
   "mimetype": "text/x-python",
   "name": "python",
   "nbconvert_exporter": "python",
   "pygments_lexer": "ipython3",
   "version": "3.8.3"
  }
 },
 "nbformat": 4,
 "nbformat_minor": 4
}
