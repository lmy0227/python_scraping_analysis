{
 "cells": [
  {
   "cell_type": "code",
   "execution_count": 14,
   "metadata": {},
   "outputs": [
    {
     "name": "stdout",
     "output_type": "stream",
     "text": [
      "Name: PyMySQL\n",
      "Version: 0.10.0\n",
      "Summary: Pure Python MySQL Driver\n",
      "Home-page: https://github.com/PyMySQL/PyMySQL/\n",
      "Author: yutaka.matsubara\n",
      "Author-email: yutaka.matsubara@gmail.com\n",
      "License: \"MIT\"\n",
      "Location: c:\\anaconda3\\lib\\site-packages\n",
      "Requires: \n",
      "Required-by: \n"
     ]
    }
   ],
   "source": [
    "!pip show pymysql"
   ]
  },
  {
   "cell_type": "code",
   "execution_count": 15,
   "metadata": {},
   "outputs": [],
   "source": [
    "sql = \"\"\"\n",
    "CREATE TABLE product (\n",
    "    id INT UNSIGNED NOT NULL AUTO_INCREMENT,\n",
    "    name VARCHAR(20) NOT NULL,\n",
    "    model_num VARCHAR(10) NOT NULL,\n",
    "    model_type VARCHAR(10) NOT NULL,\n",
    "    PRIMARY KEY(id)\n",
    ");\n",
    "\"\"\""
   ]
  },
  {
   "cell_type": "code",
   "execution_count": 16,
   "metadata": {},
   "outputs": [],
   "source": [
    "import pymysql\n",
    "\n",
    "db = pymysql.connect(host='localhost', port=3306, db='python_db',\\\n",
    "                    user='python',passwd='python',charset='utf8')\n",
    "cursor = db.cursor()\n",
    "cursor.execute(sql)\n",
    "db.commit()"
   ]
  },
  {
   "cell_type": "code",
   "execution_count": 17,
   "metadata": {},
   "outputs": [
    {
     "data": {
      "text/plain": [
       "6"
      ]
     },
     "execution_count": 17,
     "metadata": {},
     "output_type": "execute_result"
    }
   ],
   "source": [
    "cursor.execute('drop table product')\n",
    "cursor.execute('show tables')"
   ]
  },
  {
   "cell_type": "code",
   "execution_count": 18,
   "metadata": {},
   "outputs": [],
   "source": [
    "db.close()"
   ]
  },
  {
   "cell_type": "code",
   "execution_count": 24,
   "metadata": {},
   "outputs": [
    {
     "name": "stdout",
     "output_type": "stream",
     "text": [
      "insert into product (name,model_num,model_type)             values('S2010','7700','Phone')\n",
      "insert into product (name,model_num,model_type)             values('S2011','7700','Phone')\n",
      "insert into product (name,model_num,model_type)             values('S2012','7700','Phone')\n",
      "insert into product (name,model_num,model_type)             values('S2013','7700','Phone')\n",
      "insert into product (name,model_num,model_type)             values('S2014','7700','Phone')\n",
      "insert into product (name,model_num,model_type)             values('S2015','7700','Phone')\n",
      "insert into product (name,model_num,model_type)             values('S2016','7700','Phone')\n",
      "insert into product (name,model_num,model_type)             values('S2017','7700','Phone')\n",
      "insert into product (name,model_num,model_type)             values('S2018','7700','Phone')\n",
      "insert into product (name,model_num,model_type)             values('S2019','7700','Phone')\n",
      "10\n"
     ]
    }
   ],
   "source": [
    "import pymysql\n",
    "\n",
    "db = pymysql.connect(host='localhost', port=3306, db='python_db',\\\n",
    "                    user='python',passwd='python',charset='utf8')\n",
    "\n",
    "try:\n",
    "    with db.cursor() as cursor:\n",
    "        cursor.execute(sql)\n",
    "        db.commit()\n",
    "        \n",
    "        for num in range(10,20):\n",
    "            name = 'S20'+str(num)\n",
    "            #ins_sql = 'insert into product (name,model_num,model_type) values(%s, %s, %s)'\n",
    "            #cursor.execute(ins_sql,(name,'7700','Phone'))\n",
    "            ins_sql = \"insert into product (name,model_num,model_type) \\\n",
    "            values('\"+name+\"','7700','Phone')\"\n",
    "            cursor.execute(ins_sql)\n",
    "            print(ins_sql)\n",
    "        db.commit()\n",
    "        print(cursor.lastrowid)\n",
    "finally:\n",
    "    db.close()"
   ]
  },
  {
   "cell_type": "code",
   "execution_count": 31,
   "metadata": {},
   "outputs": [
    {
     "name": "stdout",
     "output_type": "stream",
     "text": [
      "<class 'tuple'> (3, 'S2012', '7700', '핸드폰')\n",
      "0\n",
      "1 S2010 7700 핸드폰\n",
      "2 S2011 7700 핸드폰\n",
      "3 S2012 7700 핸드폰\n",
      "4 S2013 7700 핸드폰\n",
      "5 S2014 7700 핸드폰\n",
      "6 S2015 7700 핸드폰\n",
      "7 S2016 7700 Phone\n",
      "8 S2017 7700 Phone\n",
      "9 S2018 7700 Phone\n",
      "10 S2019 7700 Phone\n",
      "('Phone', 4)\n",
      "('핸드폰', 6)\n"
     ]
    }
   ],
   "source": [
    "import pymysql\n",
    "\n",
    "db = pymysql.connect(host='localhost', port=3306, db='python_db',\\\n",
    "                    user='python',passwd='python',charset='utf8')\n",
    "\n",
    "try:\n",
    "    #select, update\n",
    "    with db.cursor() as cursor:\n",
    "        cursor.execute('select * from product where id=3')\n",
    "        result = cursor.fetchone()\n",
    "        print(type(result),result)\n",
    "        \n",
    "        upd_sql = \"update product set model_type='%s' where name between 'S2010' and 'S2015'\" % '핸드폰'\n",
    "        cursor.execute(upd_sql)\n",
    "        db.commit()\n",
    "        print(cursor.rowcount)\n",
    "        \n",
    "        cursor.execute('select * from product')\n",
    "        result_list = cursor.fetchall()\n",
    "        #print(type(result_list))\n",
    "        for row in result_list:\n",
    "            print(row[0],row[1],row[2],row[3])\n",
    "            \n",
    "        # model_type별로 group by 하는 쿼리 실행 \n",
    "        cursor.execute('select model_type,count(*) from product group by model_type')\n",
    "        for row in cursor.fetchall():\n",
    "            print(row)\n",
    "finally:\n",
    "    db.close()"
   ]
  }
 ],
 "metadata": {
  "kernelspec": {
   "display_name": "Python 3",
   "language": "python",
   "name": "python3"
  },
  "language_info": {
   "codemirror_mode": {
    "name": "ipython",
    "version": 3
   },
   "file_extension": ".py",
   "mimetype": "text/x-python",
   "name": "python",
   "nbconvert_exporter": "python",
   "pygments_lexer": "ipython3",
   "version": "3.8.3"
  }
 },
 "nbformat": 4,
 "nbformat_minor": 2
}
