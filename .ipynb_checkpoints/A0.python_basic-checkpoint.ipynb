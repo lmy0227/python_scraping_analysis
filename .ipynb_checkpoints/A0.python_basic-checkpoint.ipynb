{
 "cells": [
  {
   "cell_type": "code",
   "execution_count": 3,
   "metadata": {},
   "outputs": [
    {
     "name": "stdout",
     "output_type": "stream",
     "text": [
      "<class 'dict'>\n",
      "홍길동\n"
     ]
    }
   ],
   "source": [
    "# dict\n",
    "my_dict = {\n",
    "    \"name\":\"홍길동\",\n",
    "    \"age\":40\n",
    "}\n",
    "print(type(my_dict))\n",
    "name = my_dict['name']\n",
    "print(name)"
   ]
  },
  {
   "cell_type": "code",
   "execution_count": 4,
   "metadata": {},
   "outputs": [
    {
     "name": "stdout",
     "output_type": "stream",
     "text": [
      "name 홍길동\n",
      "age 40\n"
     ]
    }
   ],
   "source": [
    "#key,value 한번에 출력하는 함수 items()\n",
    "for k,v in my_dict.items():\n",
    "    print(k,v)"
   ]
  },
  {
   "cell_type": "code",
   "execution_count": 5,
   "metadata": {},
   "outputs": [],
   "source": [
    "#10 + 20 = 30\n",
    "def add(n1,n2):\n",
    "    return n1 + n2"
   ]
  },
  {
   "cell_type": "code",
   "execution_count": 6,
   "metadata": {},
   "outputs": [
    {
     "data": {
      "text/plain": [
       "30"
      ]
     },
     "execution_count": 6,
     "metadata": {},
     "output_type": "execute_result"
    }
   ],
   "source": [
    "add(10,20)"
   ]
  },
  {
   "cell_type": "code",
   "execution_count": 7,
   "metadata": {},
   "outputs": [],
   "source": [
    "def my_url(kind):\n",
    "    #url = \"https://openapi.naver.com/v1/search/{}.json\".format(kind)\n",
    "    url = f\"https://openapi.naver.com/v1/search/{kind}.json\"\n",
    "    print(url)\n"
   ]
  },
  {
   "cell_type": "code",
   "execution_count": 8,
   "metadata": {},
   "outputs": [
    {
     "name": "stdout",
     "output_type": "stream",
     "text": [
      "https://openapi.naver.com/v1/search/news.json\n",
      "https://openapi.naver.com/v1/search/movie.json\n",
      "https://openapi.naver.com/v1/search/book.json\n"
     ]
    }
   ],
   "source": [
    "my_url('news')\n",
    "my_url('movie')\n",
    "my_url('book')"
   ]
  },
  {
   "cell_type": "code",
   "execution_count": 9,
   "metadata": {},
   "outputs": [
    {
     "name": "stdout",
     "output_type": "stream",
     "text": [
      "<class 'list'> ['a', 'b', 'c']\n"
     ]
    }
   ],
   "source": [
    "# split() 함수 사용\n",
    "my_str = 'a/b/c'\n",
    "result = my_str.split('/')\n",
    "print(type(result), result)"
   ]
  },
  {
   "cell_type": "code",
   "execution_count": 10,
   "metadata": {},
   "outputs": [
    {
     "data": {
      "text/plain": [
       "['',\n",
       " 'Yesterday all my troubles seemed so far away.',\n",
       " \"Now it looks as though they're here to stay.\",\n",
       " 'Oh, I believe in yesterday.',\n",
       " '']"
      ]
     },
     "execution_count": 10,
     "metadata": {},
     "output_type": "execute_result"
    }
   ],
   "source": [
    "lyric = '''\n",
    "Yesterday all my troubles seemed so far away.\n",
    "Now it looks as though they're here to stay.\n",
    "Oh, I believe in yesterday.\n",
    "'''\n",
    "result = lyric.split('\\n')\n",
    "result"
   ]
  },
  {
   "cell_type": "code",
   "execution_count": 11,
   "metadata": {},
   "outputs": [
    {
     "data": {
      "text/plain": [
       "[1, 4, 9, 16]"
      ]
     },
     "execution_count": 11,
     "metadata": {},
     "output_type": "execute_result"
    }
   ],
   "source": [
    "# list comprehension (포괄적인 리스트)\n",
    "# 적용전 before\n",
    "numbers = [1,2,3,4]\n",
    "result = []\n",
    "for value in numbers:\n",
    "    result.append(value ** 2)\n",
    "\n",
    "result    "
   ]
  },
  {
   "cell_type": "code",
   "execution_count": 12,
   "metadata": {},
   "outputs": [
    {
     "data": {
      "text/plain": [
       "[1, 4, 9, 16]"
      ]
     },
     "execution_count": 12,
     "metadata": {},
     "output_type": "execute_result"
    }
   ],
   "source": [
    "#적용 후 after\n",
    "result2 = [ val ** 2 for val in numbers ]\n",
    "result2"
   ]
  },
  {
   "cell_type": "code",
   "execution_count": 13,
   "metadata": {},
   "outputs": [
    {
     "data": {
      "text/plain": [
       "[0, 2, 4, 6, 8, 10, 12, 14, 16, 18]"
      ]
     },
     "execution_count": 13,
     "metadata": {},
     "output_type": "execute_result"
    }
   ],
   "source": [
    "# 적용전\n",
    "even_list = []\n",
    "for val in range(20):\n",
    "    if val % 2 == 0:\n",
    "        #print(val)\n",
    "        even_list.append(val)\n",
    "\n",
    "even_list        "
   ]
  },
  {
   "cell_type": "code",
   "execution_count": 14,
   "metadata": {},
   "outputs": [
    {
     "data": {
      "text/plain": [
       "[0, 2, 4, 6, 8, 10, 12, 14, 16, 18]"
      ]
     },
     "execution_count": 14,
     "metadata": {},
     "output_type": "execute_result"
    }
   ],
   "source": [
    "# 적용후\n",
    "even_list2 = [ val for val in range(20) if val % 2 == 0]\n",
    "even_list2"
   ]
  },
  {
   "cell_type": "code",
   "execution_count": 15,
   "metadata": {},
   "outputs": [
    {
     "data": {
      "text/plain": [
       "[{'seq': 0, 'title': 'Dynamite'},\n",
       " {'seq': 1, 'title': 'Dynamite'},\n",
       " {'seq': 2, 'title': 'Dynamite'},\n",
       " {'seq': 3, 'title': 'Dynamite'},\n",
       " {'seq': 4, 'title': 'Dynamite'}]"
      ]
     },
     "execution_count": 15,
     "metadata": {},
     "output_type": "execute_result"
    }
   ],
   "source": [
    "#dict , list\n",
    "song_list = []\n",
    "for val in range(5):\n",
    "    song_dict = {}\n",
    "    song_dict['seq'] = val\n",
    "    song_dict['title'] = 'Dynamite'\n",
    "    #print(song_dict)\n",
    "    song_list.append(song_dict)\n",
    "\n",
    "song_list    "
   ]
  },
  {
   "cell_type": "code",
   "execution_count": 16,
   "metadata": {},
   "outputs": [
    {
     "name": "stdout",
     "output_type": "stream",
     "text": [
      "a\n",
      "b\r",
      "c\tda\n",
      "b\r",
      "c\tda\n",
      "b\r",
      "c\td\n",
      "<class 're.Pattern'> re.compile('[\\\\n\\\\r\\\\t]')\n",
      "abcdabcdabcd\n"
     ]
    }
   ],
   "source": [
    "import re\n",
    "\n",
    "my_str = 'a\\nb\\rc\\td' * 3\n",
    "print(my_str)\n",
    "\n",
    "#정규표현식 패턴(Pattern) 객체 생성\n",
    "regexp = re.compile(r'[\\n\\r\\t]')\n",
    "print(type(regexp), regexp)\n",
    "#Pattern 과 매칭되는 문자열을 찾아서 다른 문자열로 치환\n",
    "result = regexp.sub(\" \",my_str)\n",
    "#str의 replace 함수로 중간 공백을 제거함\n",
    "result = result.replace(\" \",\"\")\n",
    "print(result)"
   ]
  },
  {
   "cell_type": "code",
   "execution_count": 17,
   "metadata": {},
   "outputs": [],
   "source": [
    "# tuple 형태로 여러개의 값을 반환하는 함수 선언\n",
    "def swap(a,b):\n",
    "    return (b,a)"
   ]
  },
  {
   "cell_type": "code",
   "execution_count": 18,
   "metadata": {},
   "outputs": [
    {
     "name": "stdout",
     "output_type": "stream",
     "text": [
      "20\n",
      "10\n"
     ]
    }
   ],
   "source": [
    "n1,n2 = swap(10,20)\n",
    "print(n1)\n",
    "print(n2)"
   ]
  },
  {
   "cell_type": "code",
   "execution_count": 21,
   "metadata": {},
   "outputs": [
    {
     "name": "stdout",
     "output_type": "stream",
     "text": [
      "<class 'int'>\n",
      "<class 'tuple'>\n"
     ]
    }
   ],
   "source": [
    "my_tuple=(1)\n",
    "print(type(my_tuple))\n",
    "\n",
    "my_tuple2=(1,)\n",
    "print(type(my_tuple2))"
   ]
  }
 ],
 "metadata": {
  "kernelspec": {
   "display_name": "Python 3",
   "language": "python",
   "name": "python3"
  },
  "language_info": {
   "codemirror_mode": {
    "name": "ipython",
    "version": 3
   },
   "file_extension": ".py",
   "mimetype": "text/x-python",
   "name": "python",
   "nbconvert_exporter": "python",
   "pygments_lexer": "ipython3",
   "version": "3.8.3"
  }
 },
 "nbformat": 4,
 "nbformat_minor": 4
}
